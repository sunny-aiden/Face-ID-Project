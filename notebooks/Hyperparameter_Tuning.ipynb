{
 "cells": [
  {
   "cell_type": "markdown",
   "id": "fc70fc33",
   "metadata": {},
   "source": [
    "Hyperparameter Tuning"
   ]
  },
  {
   "cell_type": "markdown",
   "id": "f68bf9bd",
   "metadata": {},
   "source": [
    "Traditional ML — Grid / Random Search"
   ]
  },
  {
   "cell_type": "code",
   "execution_count": 4,
   "id": "4e38febd",
   "metadata": {},
   "outputs": [
    {
     "name": "stdout",
     "output_type": "stream",
     "text": [
      "shapes: (7836, 1280) (7836,)\n"
     ]
    }
   ],
   "source": [
    "from pathlib import Path\n",
    "import numpy as np\n",
    "\n",
    "FEAT = Path(\"features\")          #  ←  no “..” here\n",
    "X_train = np.load(FEAT / \"X_train.npy\")\n",
    "y_train = np.load(FEAT / \"y_train.npy\")\n",
    "X_val   = np.load(FEAT / \"X_val.npy\")\n",
    "y_val   = np.load(FEAT / \"y_val.npy\")\n",
    "\n",
    "print(\"shapes:\", X_train.shape, y_train.shape)   # should print e.g. (7836, 1280) (7836,)\n"
   ]
  },
  {
   "cell_type": "code",
   "execution_count": null,
   "id": "2d0607ea",
   "metadata": {},
   "outputs": [
    {
     "name": "stdout",
     "output_type": "stream",
     "text": [
      "Fitting 3 folds for each of 8 candidates, totalling 24 fits\n"
     ]
    },
    {
     "name": "stderr",
     "output_type": "stream",
     "text": [
      "/Users/sangsun/Library/Python/3.9/lib/python/site-packages/sklearn/model_selection/_split.py:805: UserWarning: The least populated class in y has only 2 members, which is less than n_splits=3.\n",
      "  warnings.warn(\n",
      "/Users/sangsun/Library/Python/3.9/lib/python/site-packages/sklearn/linear_model/_logistic.py:1247: FutureWarning: 'multi_class' was deprecated in version 1.5 and will be removed in 1.7. From then on, it will always use 'multinomial'. Leave it to its default value to avoid this warning.\n",
      "  warnings.warn(\n",
      "/Users/sangsun/Library/Python/3.9/lib/python/site-packages/sklearn/linear_model/_logistic.py:1247: FutureWarning: 'multi_class' was deprecated in version 1.5 and will be removed in 1.7. From then on, it will always use 'multinomial'. Leave it to its default value to avoid this warning.\n",
      "  warnings.warn(\n",
      "/Users/sangsun/Library/Python/3.9/lib/python/site-packages/sklearn/linear_model/_logistic.py:1247: FutureWarning: 'multi_class' was deprecated in version 1.5 and will be removed in 1.7. From then on, it will always use 'multinomial'. Leave it to its default value to avoid this warning.\n",
      "  warnings.warn(\n",
      "/Users/sangsun/Library/Python/3.9/lib/python/site-packages/sklearn/linear_model/_logistic.py:1247: FutureWarning: 'multi_class' was deprecated in version 1.5 and will be removed in 1.7. From then on, it will always use 'multinomial'. Leave it to its default value to avoid this warning.\n",
      "  warnings.warn(\n",
      "/Users/sangsun/Library/Python/3.9/lib/python/site-packages/sklearn/linear_model/_logistic.py:1247: FutureWarning: 'multi_class' was deprecated in version 1.5 and will be removed in 1.7. From then on, it will always use 'multinomial'. Leave it to its default value to avoid this warning.\n",
      "  warnings.warn(\n",
      "/Users/sangsun/Library/Python/3.9/lib/python/site-packages/sklearn/linear_model/_logistic.py:1247: FutureWarning: 'multi_class' was deprecated in version 1.5 and will be removed in 1.7. From then on, it will always use 'multinomial'. Leave it to its default value to avoid this warning.\n",
      "  warnings.warn(\n",
      "/Users/sangsun/Library/Python/3.9/lib/python/site-packages/sklearn/linear_model/_logistic.py:1247: FutureWarning: 'multi_class' was deprecated in version 1.5 and will be removed in 1.7. From then on, it will always use 'multinomial'. Leave it to its default value to avoid this warning.\n",
      "  warnings.warn(\n",
      "/Users/sangsun/Library/Python/3.9/lib/python/site-packages/sklearn/linear_model/_logistic.py:1247: FutureWarning: 'multi_class' was deprecated in version 1.5 and will be removed in 1.7. From then on, it will always use 'multinomial'. Leave it to its default value to avoid this warning.\n",
      "  warnings.warn(\n",
      "/Users/sangsun/Library/Python/3.9/lib/python/site-packages/sklearn/linear_model/_logistic.py:1247: FutureWarning: 'multi_class' was deprecated in version 1.5 and will be removed in 1.7. From then on, it will always use 'multinomial'. Leave it to its default value to avoid this warning.\n",
      "  warnings.warn(\n",
      "/Users/sangsun/Library/Python/3.9/lib/python/site-packages/sklearn/linear_model/_logistic.py:1247: FutureWarning: 'multi_class' was deprecated in version 1.5 and will be removed in 1.7. From then on, it will always use 'multinomial'. Leave it to its default value to avoid this warning.\n",
      "  warnings.warn(\n"
     ]
    }
   ],
   "source": [
    "# Logistic Regression – GridSearch\n",
    "\n",
    "from sklearn.linear_model import LogisticRegression\n",
    "\n",
    "pipe = Pipeline([\n",
    "    (\"scaler\",  StandardScaler()),            # improves convergence\n",
    "    (\"clf\", LogisticRegression(max_iter=2000, solver=\"saga\", n_jobs=-1,\n",
    "                               multi_class=\"multinomial\"))\n",
    "])\n",
    "\n",
    "param_grid = {\n",
    "    \"clf__C\":        [0.1, 1, 3, 10],\n",
    "    \"clf__penalty\":  [\"l1\", \"l2\"]\n",
    "}\n",
    "\n",
    "gs_log = GridSearchCV(pipe, param_grid, cv=3, scoring=\"accuracy\",\n",
    "                      n_jobs=-1, verbose=1)\n",
    "gs_log.fit(X_train, y_train)\n",
    "print(\"Best LogReg:\", gs_log.best_params_, \"→\", gs_log.best_score_)\n",
    "joblib.dump(gs_log.best_estimator_, \"logreg_best.pkl\")\n"
   ]
  },
  {
   "cell_type": "code",
   "execution_count": null,
   "id": "8b8d8845",
   "metadata": {},
   "outputs": [],
   "source": [
    "# Linear SVM – RandomizedSearch\n",
    "\n",
    "from sklearn.linear_model import SGDClassifier\n",
    "from scipy.stats import loguniform\n",
    "\n",
    "svm_pipe = Pipeline([\n",
    "    (\"scaler\", StandardScaler()),\n",
    "    (\"clf\", SGDClassifier(loss=\"hinge\", max_iter=4000, n_jobs=-1))\n",
    "])\n",
    "\n",
    "param_dist = {\n",
    "    \"clf__alpha\": loguniform(1e-6, 1e-3),   # 1/C\n",
    "    \"clf__learning_rate\": [\"optimal\", \"invscaling\", \"adaptive\"],\n",
    "    \"clf__eta0\": [1e-3, 5e-3, 1e-2]\n",
    "}\n",
    "\n",
    "rs_svm = RandomizedSearchCV(svm_pipe, param_dist, n_iter=20, cv=3,\n",
    "                            scoring=\"accuracy\", n_jobs=-1, verbose=1, random_state=42)\n",
    "rs_svm.fit(X_train, y_train)\n",
    "print(\"Best SVM:\", rs_svm.best_params_, \"→\", rs_svm.best_score_)\n",
    "joblib.dump(rs_svm.best_estimator_, \"svm_best.pkl\")\n"
   ]
  },
  {
   "cell_type": "code",
   "execution_count": null,
   "id": "e25d5539",
   "metadata": {},
   "outputs": [],
   "source": [
    "# K‑NN – GridSearch\n",
    "\n",
    "from sklearn.neighbors import KNeighborsClassifier\n",
    "\n",
    "knn_pipe = Pipeline([\n",
    "    (\"scaler\", StandardScaler(with_mean=False)),   # cosine dist doesn’t need centering\n",
    "    (\"clf\", KNeighborsClassifier(metric=\"cosine\"))\n",
    "])\n",
    "\n",
    "param_grid = {\n",
    "    \"clf__n_neighbors\": [3, 5, 7, 9],\n",
    "    \"clf__weights\": [\"uniform\", \"distance\"]\n",
    "}\n",
    "\n",
    "gs_knn = GridSearchCV(knn_pipe, param_grid, cv=3, scoring=\"accuracy\",\n",
    "                      n_jobs=-1, verbose=1)\n",
    "gs_knn.fit(X_train, y_train)\n",
    "print(\"Best KNN:\", gs_knn.best_params_, \"→\", gs_knn.best_score_)\n",
    "joblib.dump(gs_knn.best_estimator_, \"knn_best.pkl\")\n",
    "\n"
   ]
  },
  {
   "cell_type": "code",
   "execution_count": null,
   "id": "ca709dce",
   "metadata": {},
   "outputs": [],
   "source": [
    "import pandas as pd\n",
    "pd.DataFrame(gs_log.cv_results_).to_csv(\"logreg_grid_results.csv\", index=False)"
   ]
  },
  {
   "cell_type": "markdown",
   "id": "42cbde9a",
   "metadata": {},
   "source": [
    "CNN — Optuna Bayesian Search (PyTorch)"
   ]
  },
  {
   "cell_type": "code",
   "execution_count": 3,
   "id": "b47f619a",
   "metadata": {},
   "outputs": [
    {
     "name": "stdout",
     "output_type": "stream",
     "text": [
      "\u001b[33mWARNING: You are using pip version 21.2.4; however, version 25.1.1 is available.\n",
      "You should consider upgrading via the '/Library/Developer/CommandLineTools/usr/bin/python3 -m pip install --upgrade pip' command.\u001b[0m\n",
      "Note: you may need to restart the kernel to use updated packages.\n"
     ]
    }
   ],
   "source": [
    "pip install optuna --quiet"
   ]
  },
  {
   "cell_type": "code",
   "execution_count": null,
   "id": "2720c528",
   "metadata": {},
   "outputs": [],
   "source": [
    "# Define an objective\n",
    "import optuna, torch, torch.nn as nn, copy, time\n",
    "from torch.utils.data import DataLoader\n",
    "from torchvision import transforms, datasets\n",
    "\n",
    "def objective(trial):\n",
    "    # hyper‑params to explore\n",
    "    lr         = trial.suggest_loguniform(\"lr\", 1e-4, 3e-3)\n",
    "    dropout_p  = trial.suggest_float(\"dropout\", 0.2, 0.5)\n",
    "    weight_dec = trial.suggest_loguniform(\"wd\", 1e-5, 1e-3)\n",
    "    unfreeze   = trial.suggest_int(\"unfreeze\", 50, 150, step=25)\n",
    "\n",
    "    # model\n",
    "    model = mobilenet_v2_ft(num_classes, unfreeze_from=unfreeze)\n",
    "    model.classifier[0] = nn.Dropout(dropout_p)\n",
    "    model.to(device)\n",
    "\n",
    "    opt  = torch.optim.AdamW(model.parameters(), lr=lr, weight_decay=weight_dec)\n",
    "    crit = nn.CrossEntropyLoss()\n",
    "\n",
    "    best_val, stale = 0, 0\n",
    "    for epoch in range(1, 11):            # max 10 epochs each trial\n",
    "        # train one epoch\n",
    "        model.train()\n",
    "        for X, y in train_loader:\n",
    "            X, y = X.to(device), y.to(device)\n",
    "            opt.zero_grad(); out = model(X); loss = crit(out, y)\n",
    "            loss.backward(); opt.step()\n",
    "\n",
    "        # val acc\n",
    "        model.eval(); correct = total = 0\n",
    "        with torch.inference_mode():\n",
    "            for X, y in val_loader:\n",
    "                X, y = X.to(device), y.to(device)\n",
    "                correct += (model(X).argmax(1) == y).sum().item()\n",
    "                total   += y.size(0)\n",
    "        val_acc = correct / total\n",
    "        trial.report(val_acc, epoch)\n",
    "\n",
    "        if trial.should_prune():   # early‑prune bad trials\n",
    "            raise optuna.TrialPruned()\n",
    "\n",
    "        if val_acc > best_val:\n",
    "            best_val, stale = val_acc, 0\n",
    "        else:\n",
    "            stale += 1\n",
    "            if stale >= 3: break   # our own patience\n",
    "\n",
    "    return best_val\n"
   ]
  },
  {
   "cell_type": "code",
   "execution_count": null,
   "id": "7ed2ba18",
   "metadata": {},
   "outputs": [],
   "source": [
    "# Run the study\n",
    "study = optuna.create_study(direction=\"maximize\", sampler=optuna.samplers.TPESampler())\n",
    "study.optimize(objective, n_trials=25, timeout=60*60)   # 1 hour budget\n",
    "print(\"Best trial:\", study.best_trial.params, \"→\", study.best_value)\n",
    "study.trials_dataframe().to_csv(\"optuna_mobilenet.csv\", index=False)\n"
   ]
  },
  {
   "cell_type": "markdown",
   "id": "7b5374a1",
   "metadata": {},
   "source": []
  }
 ],
 "metadata": {
  "kernelspec": {
   "display_name": "Python 3",
   "language": "python",
   "name": "python3"
  },
  "language_info": {
   "codemirror_mode": {
    "name": "ipython",
    "version": 3
   },
   "file_extension": ".py",
   "mimetype": "text/x-python",
   "name": "python",
   "nbconvert_exporter": "python",
   "pygments_lexer": "ipython3",
   "version": "3.9.6"
  }
 },
 "nbformat": 4,
 "nbformat_minor": 5
}
